{
 "cells": [
  {
   "cell_type": "code",
   "execution_count": 1,
   "id": "cd334cbf",
   "metadata": {},
   "outputs": [],
   "source": [
    "import pandas as pd\n",
    "import numpy as np\n",
    "from sklearn.model_selection import train_test_split\n",
    "from sklearn.feature_extraction.text import CountVectorizer\n",
    "from sklearn.naive_bayes import BernoulliNB\n",
    "from sklearn.metrics import classification_report\n",
    "from sklearn.linear_model import LogisticRegression\n",
    "from sklearn.feature_extraction.text import TfidfVectorizer\n",
    "import re"
   ]
  },
  {
   "cell_type": "code",
   "execution_count": 2,
   "id": "792f4c31",
   "metadata": {},
   "outputs": [],
   "source": [
    "df = pd.read_csv('train.csv')\n",
    "df.head()\n",
    "\n",
    "def clean_text(text):\n",
    "    text = text.lower()\n",
    "    text = re.sub(r'http\\S+|www\\S+|https\\S+', '', text, flags=re.MULTILINE)\n",
    "    text = re.sub(r\"[^a-z\\s]\", \"\", text)  \n",
    "    text = re.sub(r\"\\s+\", \" \", text).strip()\n",
    "    return text\n",
    "\n",
    "x = df['tweet'].apply(clean_text)\n",
    "y = df['class']"
   ]
  },
  {
   "cell_type": "code",
   "execution_count": 3,
   "id": "cd1a6142",
   "metadata": {},
   "outputs": [
    {
     "name": "stdout",
     "output_type": "stream",
     "text": [
      "              precision    recall  f1-score   support\n",
      "\n",
      "           0       0.00      0.00      0.00       290\n",
      "           1       0.82      0.99      0.90      3832\n",
      "           2       0.87      0.35      0.50       835\n",
      "\n",
      "    accuracy                           0.83      4957\n",
      "   macro avg       0.56      0.45      0.47      4957\n",
      "weighted avg       0.78      0.83      0.78      4957\n",
      "\n"
     ]
    }
   ],
   "source": [
    "vectorizer = CountVectorizer(binary=True, stop_words='english')\n",
    "x_vectorized = vectorizer.fit_transform(x)\n",
    "x_train, x_test, y_train, y_test = train_test_split(x_vectorized, y, test_size=0.2, random_state=42)\n",
    "model = BernoulliNB()\n",
    "model.fit(x_train, y_train)\n",
    "y_pred = model.predict(x_test)\n",
    "print(classification_report(y_test, y_pred))"
   ]
  },
  {
   "cell_type": "code",
   "execution_count": 4,
   "id": "a3c7b3b7",
   "metadata": {},
   "outputs": [
    {
     "name": "stdout",
     "output_type": "stream",
     "text": [
      "              precision    recall  f1-score   support\n",
      "\n",
      "           0       0.36      0.54      0.43       290\n",
      "           1       0.96      0.89      0.93      3832\n",
      "           2       0.79      0.93      0.86       835\n",
      "\n",
      "    accuracy                           0.88      4957\n",
      "   macro avg       0.71      0.79      0.74      4957\n",
      "weighted avg       0.90      0.88      0.89      4957\n",
      "\n"
     ]
    }
   ],
   "source": [
    "logistic_model_cv = LogisticRegression(max_iter=1000, class_weight='balanced')\n",
    "logistic_model_cv.fit(x_train, y_train)\n",
    "y_pred_logistic_cv = logistic_model_cv.predict(x_test)\n",
    "print(classification_report(y_test, y_pred_logistic_cv))"
   ]
  }
 ],
 "metadata": {
  "kernelspec": {
   "display_name": "base",
   "language": "python",
   "name": "python3"
  },
  "language_info": {
   "codemirror_mode": {
    "name": "ipython",
    "version": 3
   },
   "file_extension": ".py",
   "mimetype": "text/x-python",
   "name": "python",
   "nbconvert_exporter": "python",
   "pygments_lexer": "ipython3",
   "version": "3.11.5"
  }
 },
 "nbformat": 4,
 "nbformat_minor": 5
}
